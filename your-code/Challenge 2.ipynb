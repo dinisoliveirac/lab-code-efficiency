{
 "cells": [
  {
   "cell_type": "markdown",
   "metadata": {},
   "source": [
    "# Challenge 2"
   ]
  },
  {
   "cell_type": "markdown",
   "metadata": {},
   "source": [
    "The code below generates a given number of random strings that consists of numbers and \n",
    "lower case English letters. You can also define the range of the variable lengths of\n",
    "the strings being generated.\n",
    "\n",
    "The code is functional but has a lot of room for improvement. Use what you have learned\n",
    "about simple and efficient code, refactor the code."
   ]
  },
  {
   "cell_type": "code",
   "execution_count": null,
   "metadata": {},
   "outputs": [],
   "source": [
    "def RandomStringGenerator(l=12, a=['a','b','c','d','e','f','g','h','i','j','k','l','m','n','o','p','q','r','s','t','u','v','w','x','y','z','0','1','2','3','4','5','6','7','8','9']):\n",
    "    p = 0\n",
    "    s = ''\n",
    "    while p<l:\n",
    "        import random\n",
    "        s += random.choice(a)\n",
    "        p += 1\n",
    "    return s"
   ]
  },
  {
   "cell_type": "code",
   "execution_count": null,
   "metadata": {},
   "outputs": [],
   "source": [
    "def BatchStringGenerator(n, a=8, b=12):\n",
    "    r = []\n",
    "    for i in range(n):\n",
    "        c = None\n",
    "        if a < b:\n",
    "            import random\n",
    "            c = random.choice(range(a, b))\n",
    "        elif a == b:\n",
    "            c = a\n",
    "        else:\n",
    "            import sys\n",
    "            sys.exit('Incorrect min and max string lengths. Try again.')\n",
    "        r.append(RandomStringGenerator(c))\n",
    "    return r"
   ]
  },
  {
   "cell_type": "code",
   "execution_count": null,
   "metadata": {},
   "outputs": [],
   "source": [
    "a = input('Enter minimum string length: ')\n",
    "b = input('Enter maximum string length: ')\n",
    "n = input('How many random strings to generate? ')\n",
    "\n",
    "print(BatchStringGenerator(int(n), int(a), int(b)))"
   ]
  },
  {
   "cell_type": "markdown",
   "metadata": {},
   "source": [
    "# Efficient version\n"
   ]
  },
  {
   "cell_type": "code",
   "execution_count": 1,
   "metadata": {},
   "outputs": [],
   "source": [
    "import random\n",
    "import sys"
   ]
  },
  {
   "cell_type": "code",
   "execution_count": 2,
   "metadata": {},
   "outputs": [],
   "source": [
    "# Defining the function that generates the strings \n",
    "\n",
    "def random_string_gen(string_len, characters =['a','b','c','d','e','f','g','h','i',\n",
    "                                                  'j','k','l','m','n','o','p','q','r',\n",
    "                                                  's','t','u','v','w','x','y','z','0',\n",
    "                                                  '1','2','3','4','5','6','7','8','9']):\n",
    "# Renaming the counter of strings and string variable    \n",
    "    len_count = 0\n",
    "    string = ''\n",
    "    \n",
    "    while len_count < string_len:\n",
    "        import random\n",
    "        string += random.choice(characters)\n",
    "        len_count += 1\n",
    "    \n",
    "    return string"
   ]
  },
  {
   "cell_type": "code",
   "execution_count": 3,
   "metadata": {},
   "outputs": [],
   "source": [
    "# Defining a function that returns a list with a number of random strings with the character length we ask for \n",
    "\n",
    "def batch_string_gen(number_strings, min_len, max_len):\n",
    "\n",
    "    random_strings = []\n",
    "    \n",
    "    for i in range(number_strings):\n",
    "\n",
    "# For any minimum length chosen, that is lower than the max length, pick a random length\n",
    "        if min_len < max_len:\n",
    "            string_len = random.choice(range(min_len, max_len))\n",
    "\n",
    "# If min and max length match, pick the minimum value\n",
    "\n",
    "        elif min_len == max_len:\n",
    "            string_len = min_len\n",
    "\n",
    "# In case the user inputs a min > max length of characters, the function displays the following error            \n",
    "        else:\n",
    "            sys.exit('Incorrect min and max string lengths. Try again.')\n",
    "       \n",
    "    \n",
    "        random_strings.append(random_string_gen(string_len))\n",
    "        \n",
    "    return random_strings"
   ]
  },
  {
   "cell_type": "code",
   "execution_count": 8,
   "metadata": {
    "scrolled": true
   },
   "outputs": [
    {
     "name": "stdout",
     "output_type": "stream",
     "text": [
      "Enter minimum string length: 2\n",
      "Enter maximum string length: 4\n",
      "How many random strings to generate? 4\n"
     ]
    },
    {
     "data": {
      "text/plain": [
       "['29', 'wfs', 'wxp', '9c']"
      ]
     },
     "execution_count": 8,
     "metadata": {},
     "output_type": "execute_result"
    }
   ],
   "source": [
    "min_len = int(input('Enter minimum string length: '))\n",
    "max_len = int(input('Enter maximum string length: '))\n",
    "number_strings = int(input('How many random strings to generate? '))\n",
    "\n",
    "batch_string_gen(number_strings, min_len, max_len)"
   ]
  }
 ],
 "metadata": {
  "kernelspec": {
   "display_name": "Python 3",
   "language": "python",
   "name": "python3"
  },
  "language_info": {
   "codemirror_mode": {
    "name": "ipython",
    "version": 3
   },
   "file_extension": ".py",
   "mimetype": "text/x-python",
   "name": "python",
   "nbconvert_exporter": "python",
   "pygments_lexer": "ipython3",
   "version": "3.7.5"
  }
 },
 "nbformat": 4,
 "nbformat_minor": 2
}
